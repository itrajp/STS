{
  "nbformat": 4,
  "nbformat_minor": 0,
  "metadata": {
    "colab": {
      "name": "STSmodel.ipynb",
      "provenance": [],
      "collapsed_sections": [],
      "authorship_tag": "ABX9TyNGwz8EueMaBsae3XwPU4hn",
      "include_colab_link": true
    },
    "kernelspec": {
      "name": "python3",
      "display_name": "Python 3"
    },
    "accelerator": "GPU"
  },
  "cells": [
    {
      "cell_type": "markdown",
      "metadata": {
        "id": "view-in-github",
        "colab_type": "text"
      },
      "source": [
        "<a href=\"https://colab.research.google.com/github/nikhilnimbalkar1/STS/blob/master/STSmodel.ipynb\" target=\"_parent\"><img src=\"https://colab.research.google.com/assets/colab-badge.svg\" alt=\"Open In Colab\"/></a>"
      ]
    },
    {
      "cell_type": "markdown",
      "metadata": {
        "id": "FyYN_cI4PHT2",
        "colab_type": "text"
      },
      "source": [
        "# Basic Siamese Architecture \n",
        "This architecture is based on [this keras model ](https://github.com/eliorc/Medium/blob/master/MaLSTM.ipynb) , you can also try any other implementations from [this link](https://github.com/nikhilnimbalkar1?tab=stars).This is a very basic model and we need to enhance it a lot to get even 50%-60% accuracy,this model has 4%-5% accuracy right now.Try enhancing the model individually and share all progress."
      ]
    },
    {
      "cell_type": "code",
      "metadata": {
        "id": "vNZV3lwZLtNY",
        "colab_type": "code",
        "colab": {}
      },
      "source": [
        "%%capture\n",
        "!pip3 install --upgrade tensorflow-gpu\n",
        "!pip3 install --upgrade pip3\n"
      ],
      "execution_count": 0,
      "outputs": []
    },
    {
      "cell_type": "markdown",
      "metadata": {
        "id": "NIT2LXBxOce-",
        "colab_type": "text"
      },
      "source": [
        "These install commands won't be necessary after 27 March 2020 as default Tensorflow version will switch to 2.x"
      ]
    },
    {
      "cell_type": "code",
      "metadata": {
        "id": "m4yTmeYk6pUv",
        "colab_type": "code",
        "outputId": "cd5175d4-8f5d-4308-9d79-eac5202282a3",
        "colab": {
          "base_uri": "https://localhost:8080/",
          "height": 1000
        }
      },
      "source": [
        "!pip3 install tensorflow==2.1.0"
      ],
      "execution_count": 3,
      "outputs": [
        {
          "output_type": "stream",
          "text": [
            "Collecting tensorflow==2.1.0\n",
            "\u001b[?25l  Downloading https://files.pythonhosted.org/packages/85/d4/c0cd1057b331bc38b65478302114194bd8e1b9c2bbc06e300935c0e93d90/tensorflow-2.1.0-cp36-cp36m-manylinux2010_x86_64.whl (421.8MB)\n",
            "\u001b[K     |████████████████████████████████| 421.8MB 40kB/s \n",
            "\u001b[?25hRequirement already satisfied: wheel>=0.26; python_version >= \"3\" in /usr/local/lib/python3.6/dist-packages (from tensorflow==2.1.0) (0.34.2)\n",
            "Requirement already satisfied: scipy==1.4.1; python_version >= \"3\" in /usr/local/lib/python3.6/dist-packages (from tensorflow==2.1.0) (1.4.1)\n",
            "Requirement already satisfied: absl-py>=0.7.0 in /usr/local/lib/python3.6/dist-packages (from tensorflow==2.1.0) (0.9.0)\n",
            "Requirement already satisfied: six>=1.12.0 in /usr/local/lib/python3.6/dist-packages (from tensorflow==2.1.0) (1.12.0)\n",
            "Requirement already satisfied: gast==0.2.2 in /usr/local/lib/python3.6/dist-packages (from tensorflow==2.1.0) (0.2.2)\n",
            "Collecting tensorflow-estimator<2.2.0,>=2.1.0rc0\n",
            "\u001b[?25l  Downloading https://files.pythonhosted.org/packages/18/90/b77c328a1304437ab1310b463e533fa7689f4bfc41549593056d812fab8e/tensorflow_estimator-2.1.0-py2.py3-none-any.whl (448kB)\n",
            "\u001b[K     |████████████████████████████████| 450kB 51.4MB/s \n",
            "\u001b[?25hRequirement already satisfied: termcolor>=1.1.0 in /usr/local/lib/python3.6/dist-packages (from tensorflow==2.1.0) (1.1.0)\n",
            "Requirement already satisfied: google-pasta>=0.1.6 in /usr/local/lib/python3.6/dist-packages (from tensorflow==2.1.0) (0.2.0)\n",
            "Requirement already satisfied: wrapt>=1.11.1 in /usr/local/lib/python3.6/dist-packages (from tensorflow==2.1.0) (1.12.1)\n",
            "Collecting tensorboard<2.2.0,>=2.1.0\n",
            "\u001b[?25l  Downloading https://files.pythonhosted.org/packages/d9/41/bbf49b61370e4f4d245d4c6051dfb6db80cec672605c91b1652ac8cc3d38/tensorboard-2.1.1-py3-none-any.whl (3.8MB)\n",
            "\u001b[K     |████████████████████████████████| 3.9MB 56.6MB/s \n",
            "\u001b[?25hRequirement already satisfied: grpcio>=1.8.6 in /usr/local/lib/python3.6/dist-packages (from tensorflow==2.1.0) (1.24.3)\n",
            "Requirement already satisfied: numpy<2.0,>=1.16.0 in /usr/local/lib/python3.6/dist-packages (from tensorflow==2.1.0) (1.18.2)\n",
            "Requirement already satisfied: astor>=0.6.0 in /usr/local/lib/python3.6/dist-packages (from tensorflow==2.1.0) (0.8.1)\n",
            "Requirement already satisfied: protobuf>=3.8.0 in /usr/local/lib/python3.6/dist-packages (from tensorflow==2.1.0) (3.10.0)\n",
            "Requirement already satisfied: keras-preprocessing>=1.1.0 in /usr/local/lib/python3.6/dist-packages (from tensorflow==2.1.0) (1.1.0)\n",
            "Requirement already satisfied: opt-einsum>=2.3.2 in /usr/local/lib/python3.6/dist-packages (from tensorflow==2.1.0) (3.2.0)\n",
            "Requirement already satisfied: keras-applications>=1.0.8 in /usr/local/lib/python3.6/dist-packages (from tensorflow==2.1.0) (1.0.8)\n",
            "Requirement already satisfied: requests<3,>=2.21.0 in /usr/local/lib/python3.6/dist-packages (from tensorboard<2.2.0,>=2.1.0->tensorflow==2.1.0) (2.21.0)\n",
            "Requirement already satisfied: setuptools>=41.0.0 in /usr/local/lib/python3.6/dist-packages (from tensorboard<2.2.0,>=2.1.0->tensorflow==2.1.0) (46.0.0)\n",
            "Requirement already satisfied: markdown>=2.6.8 in /usr/local/lib/python3.6/dist-packages (from tensorboard<2.2.0,>=2.1.0->tensorflow==2.1.0) (3.2.1)\n",
            "Requirement already satisfied: werkzeug>=0.11.15 in /usr/local/lib/python3.6/dist-packages (from tensorboard<2.2.0,>=2.1.0->tensorflow==2.1.0) (1.0.0)\n",
            "Requirement already satisfied: google-auth-oauthlib<0.5,>=0.4.1 in /usr/local/lib/python3.6/dist-packages (from tensorboard<2.2.0,>=2.1.0->tensorflow==2.1.0) (0.4.1)\n",
            "Requirement already satisfied: google-auth<2,>=1.6.3 in /usr/local/lib/python3.6/dist-packages (from tensorboard<2.2.0,>=2.1.0->tensorflow==2.1.0) (1.7.2)\n",
            "Requirement already satisfied: h5py in /usr/local/lib/python3.6/dist-packages (from keras-applications>=1.0.8->tensorflow==2.1.0) (2.8.0)\n",
            "Requirement already satisfied: chardet<3.1.0,>=3.0.2 in /usr/local/lib/python3.6/dist-packages (from requests<3,>=2.21.0->tensorboard<2.2.0,>=2.1.0->tensorflow==2.1.0) (3.0.4)\n",
            "Requirement already satisfied: certifi>=2017.4.17 in /usr/local/lib/python3.6/dist-packages (from requests<3,>=2.21.0->tensorboard<2.2.0,>=2.1.0->tensorflow==2.1.0) (2019.11.28)\n",
            "Requirement already satisfied: idna<2.9,>=2.5 in /usr/local/lib/python3.6/dist-packages (from requests<3,>=2.21.0->tensorboard<2.2.0,>=2.1.0->tensorflow==2.1.0) (2.8)\n",
            "Requirement already satisfied: urllib3<1.25,>=1.21.1 in /usr/local/lib/python3.6/dist-packages (from requests<3,>=2.21.0->tensorboard<2.2.0,>=2.1.0->tensorflow==2.1.0) (1.24.3)\n",
            "Requirement already satisfied: requests-oauthlib>=0.7.0 in /usr/local/lib/python3.6/dist-packages (from google-auth-oauthlib<0.5,>=0.4.1->tensorboard<2.2.0,>=2.1.0->tensorflow==2.1.0) (1.3.0)\n",
            "Requirement already satisfied: rsa<4.1,>=3.1.4 in /usr/local/lib/python3.6/dist-packages (from google-auth<2,>=1.6.3->tensorboard<2.2.0,>=2.1.0->tensorflow==2.1.0) (4.0)\n",
            "Requirement already satisfied: pyasn1-modules>=0.2.1 in /usr/local/lib/python3.6/dist-packages (from google-auth<2,>=1.6.3->tensorboard<2.2.0,>=2.1.0->tensorflow==2.1.0) (0.2.8)\n",
            "Requirement already satisfied: cachetools<3.2,>=2.0.0 in /usr/local/lib/python3.6/dist-packages (from google-auth<2,>=1.6.3->tensorboard<2.2.0,>=2.1.0->tensorflow==2.1.0) (3.1.1)\n",
            "Requirement already satisfied: oauthlib>=3.0.0 in /usr/local/lib/python3.6/dist-packages (from requests-oauthlib>=0.7.0->google-auth-oauthlib<0.5,>=0.4.1->tensorboard<2.2.0,>=2.1.0->tensorflow==2.1.0) (3.1.0)\n",
            "Requirement already satisfied: pyasn1>=0.1.3 in /usr/local/lib/python3.6/dist-packages (from rsa<4.1,>=3.1.4->google-auth<2,>=1.6.3->tensorboard<2.2.0,>=2.1.0->tensorflow==2.1.0) (0.4.8)\n",
            "\u001b[31mERROR: tensorflow-federated 0.12.0 has requirement tensorflow-addons~=0.7.0, but you'll have tensorflow-addons 0.8.3 which is incompatible.\u001b[0m\n",
            "Installing collected packages: tensorflow-estimator, tensorboard, tensorflow\n",
            "  Found existing installation: tensorflow-estimator 1.15.1\n",
            "    Uninstalling tensorflow-estimator-1.15.1:\n",
            "      Successfully uninstalled tensorflow-estimator-1.15.1\n",
            "  Found existing installation: tensorboard 1.15.0\n",
            "    Uninstalling tensorboard-1.15.0:\n",
            "      Successfully uninstalled tensorboard-1.15.0\n",
            "  Found existing installation: tensorflow 1.15.0\n",
            "    Uninstalling tensorflow-1.15.0:\n",
            "      Successfully uninstalled tensorflow-1.15.0\n",
            "Successfully installed tensorboard-2.1.1 tensorflow-2.1.0 tensorflow-estimator-2.1.0\n"
          ],
          "name": "stdout"
        },
        {
          "output_type": "display_data",
          "data": {
            "application/vnd.colab-display-data+json": {
              "pip_warning": {
                "packages": [
                  "tensorboard",
                  "tensorflow",
                  "tensorflow_core",
                  "tensorflow_estimator"
                ]
              }
            }
          },
          "metadata": {
            "tags": []
          }
        }
      ]
    },
    {
      "cell_type": "code",
      "metadata": {
        "id": "lCykLg-OJ2OO",
        "colab_type": "code",
        "colab": {}
      },
      "source": [
        "import pandas as pd\n",
        "import numpy as np\n",
        "import tensorflow as tf\n",
        "import tensorflow_hub as hub\n",
        "import matplotlib.pyplot as plt\n",
        "import os\n",
        "import csv\n",
        "import scipy\n",
        "import tensorflow.keras.backend as K"
      ],
      "execution_count": 0,
      "outputs": []
    },
    {
      "cell_type": "markdown",
      "metadata": {
        "id": "J4PeKQ9gJB61",
        "colab_type": "text"
      },
      "source": [
        "Ensure you have tensorflow api v2 isntalled or there are some issues with training the final model that are not yet certain."
      ]
    },
    {
      "cell_type": "code",
      "metadata": {
        "id": "zKlRzTUJAGhz",
        "colab_type": "code",
        "outputId": "c7c31fe7-0d6e-4b5e-bf3c-3353d9bdf7f3",
        "colab": {
          "base_uri": "https://localhost:8080/",
          "height": 34
        }
      },
      "source": [
        "tf.version"
      ],
      "execution_count": 2,
      "outputs": [
        {
          "output_type": "execute_result",
          "data": {
            "text/plain": [
              "<module 'tensorflow_core._api.v2.version' from '/usr/local/lib/python3.6/dist-packages/tensorflow_core/_api/v2/version/__init__.py'>"
            ]
          },
          "metadata": {
            "tags": []
          },
          "execution_count": 2
        }
      ]
    },
    {
      "cell_type": "markdown",
      "metadata": {
        "id": "FkA2KnzzJPJF",
        "colab_type": "text"
      },
      "source": [
        "Load STS Dataset and clean up some values."
      ]
    },
    {
      "cell_type": "code",
      "metadata": {
        "id": "UqUOQaDxMofM",
        "colab_type": "code",
        "colab": {}
      },
      "source": [
        "def load_sts_dataset():\n",
        "  sts_dataset = tf.keras.utils.get_file(\n",
        "      fname=\"Stsbenchmark.tar.gz\",\n",
        "      origin=\"http://ixa2.si.ehu.es/stswiki/images/4/48/Stsbenchmark.tar.gz\",\n",
        "      extract=True)\n",
        "\n",
        "  sts_dev = pd.read_table(\n",
        "      os.path.join(os.path.dirname(sts_dataset), \"stsbenchmark\", \"sts-dev.csv\"),\n",
        "      error_bad_lines=False,\n",
        "      skip_blank_lines=True,\n",
        "      usecols=[4, 5, 6],\n",
        "      names=[\"sim\", \"sent_1\", \"sent_2\"])\n",
        "\n",
        "  sts_test = pd.read_table(\n",
        "      os.path.join(\n",
        "          os.path.dirname(sts_dataset), \"stsbenchmark\", \"sts-test.csv\"),\n",
        "      error_bad_lines=False,\n",
        "      quoting=csv.QUOTE_NONE,\n",
        "      skip_blank_lines=True,\n",
        "      usecols=[4, 5, 6],\n",
        "      names=[\"sim\", \"sent_1\", \"sent_2\"])\n",
        "\n",
        "  sts_train = pd.read_table(\n",
        "      os.path.join(\n",
        "          os.path.dirname(sts_dataset), \"stsbenchmark\", \"sts-train.csv\"),\n",
        "      error_bad_lines=False,\n",
        "      quoting=csv.QUOTE_NONE,\n",
        "      skip_blank_lines=True,\n",
        "      usecols=[4, 5, 6],\n",
        "      names=[\"sim\", \"sent_1\", \"sent_2\"])\n",
        "  # cleanup some NaN values in sts_dev\n",
        "  sts_dev = sts_dev[[isinstance(s, str) for s in sts_dev['sent_2']]]\n",
        "  return sts_train,sts_test,sts_dev\n",
        "\n"
      ],
      "execution_count": 0,
      "outputs": []
    },
    {
      "cell_type": "markdown",
      "metadata": {
        "id": "evOzS_aUPF5I",
        "colab_type": "text"
      },
      "source": [
        "Load Universal Sentence Encoder transformer model.Alternatively we can use DAN model too. "
      ]
    },
    {
      "cell_type": "code",
      "metadata": {
        "id": "NUHBjcmGOPaG",
        "colab_type": "code",
        "colab": {}
      },
      "source": [
        "def load_USE():\n",
        "  use_model_url=\"https://tfhub.dev/google/universal-sentence-encoder-large/5\"\n",
        "  embed=hub.load(\"https://tfhub.dev/google/universal-sentence-encoder-large/5\")\n",
        "  return embed"
      ],
      "execution_count": 0,
      "outputs": []
    },
    {
      "cell_type": "markdown",
      "metadata": {
        "id": "nJG0fwcqf_io",
        "colab_type": "text"
      },
      "source": [
        "Helper Function to calculate Manhattan Distance between the final output Tensors"
      ]
    },
    {
      "cell_type": "code",
      "metadata": {
        "id": "vTDgtDYnqbb6",
        "colab_type": "code",
        "colab": {}
      },
      "source": [
        "def manhattan_distance(left, right):\n",
        "    return K.exp(-K.sum(K.abs(left-right), axis=1, keepdims=True))"
      ],
      "execution_count": 0,
      "outputs": []
    },
    {
      "cell_type": "markdown",
      "metadata": {
        "id": "xJPe3ge0gLYS",
        "colab_type": "text"
      },
      "source": [
        "Prepare Data and convert both sentences to embeddings seperately and convert the similarity column to Tensor type too.\n",
        "Shuffling and Repeating the data from Tensorflow API should be used too to get accurate models.We'll try that individually and compare models later."
      ]
    },
    {
      "cell_type": "code",
      "metadata": {
        "id": "HzsPB-tJ2HHl",
        "colab_type": "code",
        "colab": {}
      },
      "source": [
        "embed=load_USE()\n",
        "def prepare_data(sts_data):\n",
        "  sts_encode1 = tf.nn.l2_normalize(embed(tf.constant(sts_data['sent_1'].tolist())), axis=1)\n",
        "  sts_encode2 = tf.nn.l2_normalize(embed(tf.constant(sts_data['sent_2'].tolist())), axis=1)\n",
        "  sts_encode1=tf.expand_dims(sts_encode1,axis=2)\n",
        "  sts_encode2=tf.expand_dims(sts_encode2,axis=2)\n",
        "  sts_sims=sts_data['sim']\n",
        "  sts_sims=tf.convert_to_tensor(sts_sims)\n",
        "  #Normalise similarity score using Min-Max normalization as our output won't vary from 0 to 5\n",
        "  sts_sims=tf.divide(tf.subtract(sts_sims,tf.reduce_min(sts_sims)),tf.subtract(tf.reduce_max(sts_sims),tf.reduce_min(sts_sims)))\n",
        "  return sts_encode1,sts_encode2,sts_sims\n"
      ],
      "execution_count": 0,
      "outputs": []
    },
    {
      "cell_type": "markdown",
      "metadata": {
        "id": "MjNcR7EshExh",
        "colab_type": "text"
      },
      "source": [
        "Function to plot model loss and accuracy"
      ]
    },
    {
      "cell_type": "code",
      "metadata": {
        "id": "0vCWulMA497S",
        "colab_type": "code",
        "colab": {}
      },
      "source": [
        "def plot_model_history(model):\n",
        "  # Plot accuracy\n",
        "  plt.grid(b=True)\n",
        "  plt.plot(model.history['accuracy'])\n",
        "  plt.plot(model.history['val_accuracy'])\n",
        "  plt.title('Model Accuracy')\n",
        "  plt.ylabel('Accuracy')\n",
        "  plt.xlabel('Epoch')\n",
        "  plt.legend(['Train', 'Validation'], loc='upper right')\n",
        "  plt.show()\n",
        "\n",
        "  # Plot loss\n",
        "  plt.grid(b=True)\n",
        "  plt.plot(model.history['loss'])\n",
        "  plt.plot(model.history['val_loss'])\n",
        "  plt.title('Model Loss')\n",
        "  plt.ylabel('Loss')\n",
        "  plt.xlabel('Epoch')\n",
        "  plt.legend(['Train', 'Validation'], loc='upper right')\n",
        "  plt.show()"
      ],
      "execution_count": 0,
      "outputs": []
    },
    {
      "cell_type": "markdown",
      "metadata": {
        "id": "fU1Q-c68hSki",
        "colab_type": "text"
      },
      "source": [
        "Building model with appropriate data."
      ]
    },
    {
      "cell_type": "code",
      "metadata": {
        "id": "LxsTvITs3E9U",
        "colab_type": "code",
        "colab": {}
      },
      "source": [
        "train,test,dev=load_sts_dataset()\n",
        "train_embeddings1,train_embeddings2,train_similarity=prepare_data(train)\n"
      ],
      "execution_count": 0,
      "outputs": []
    },
    {
      "cell_type": "markdown",
      "metadata": {
        "id": "8z8kwR5yhfmV",
        "colab_type": "text"
      },
      "source": [
        "The \"sts_dev\" dataset has some issues that need to be looked at but for now we can use test data for validation or use  \"validation_split\" parameter while training the final model to use some part of the training dataset for validation."
      ]
    },
    {
      "cell_type": "code",
      "metadata": {
        "id": "Ld6Ifvp3FAoN",
        "colab_type": "code",
        "colab": {}
      },
      "source": [
        "val_embeddings1,val_embeddings2,val_similarity=prepare_data(test)"
      ],
      "execution_count": 0,
      "outputs": []
    },
    {
      "cell_type": "markdown",
      "metadata": {
        "id": "Iugsciz_iENe",
        "colab_type": "text"
      },
      "source": [
        "# LSTM Model \n",
        "\n",
        "This is the input model to the final output.This will make our Siamese architecture.We need to enhance this model by adding different layers and check for overfitting and underfitting accordingly.Make changes to this model first and analyse accuracy and loss.\n",
        "The last LSTM layer must have **\"return_sequences=False\"** as the next layer will not accept a 3D tensor. You can check the inputs of each layer by executing **model.summary()**.\n",
        "LSTM layers must have a 3D input always."
      ]
    },
    {
      "cell_type": "code",
      "metadata": {
        "id": "MX6OyzG3JWTh",
        "colab_type": "code",
        "colab": {}
      },
      "source": [
        "lstm_model=tf.keras.Sequential([\n",
        "                                tf.keras.layers.Bidirectional(tf.keras.layers.LSTM(256,return_sequences=False)),\n",
        "                                tf.keras.layers.Dense(1)\n",
        "])"
      ],
      "execution_count": 0,
      "outputs": []
    },
    {
      "cell_type": "markdown",
      "metadata": {
        "id": "8ttMrRrik0_H",
        "colab_type": "text"
      },
      "source": [
        "Input shapes for the siamese model and output tensors from the LSTM model."
      ]
    },
    {
      "cell_type": "code",
      "metadata": {
        "id": "kxNDrixvltlg",
        "colab_type": "code",
        "colab": {}
      },
      "source": [
        "inp1=tf.keras.Input(shape=[512,1])\n",
        "inp2=tf.keras.Input(shape=[512,1])\n",
        "out1=lstm_model(inp1)\n",
        "out2=lstm_model(inp2)"
      ],
      "execution_count": 0,
      "outputs": []
    },
    {
      "cell_type": "markdown",
      "metadata": {
        "id": "Js7exwqwlCIF",
        "colab_type": "text"
      },
      "source": [
        "Calculating Manhattan Distance of the output Tensors.We may try a few different distance calcaulations too if required."
      ]
    },
    {
      "cell_type": "code",
      "metadata": {
        "id": "r9E3AylOp350",
        "colab_type": "code",
        "colab": {}
      },
      "source": [
        "malstm_dist=tf.keras.layers.Lambda(function=lambda x: manhattan_distance(x[0], x[1]),output_shape=lambda x: (x[0][0], 1))([out1, out2])"
      ],
      "execution_count": 0,
      "outputs": []
    },
    {
      "cell_type": "markdown",
      "metadata": {
        "id": "1HWcifZ4lcoS",
        "colab_type": "text"
      },
      "source": [
        "# Final Model\n",
        "The final model takes the LSTM models as input and gives Manhattan Distance as Output. "
      ]
    },
    {
      "cell_type": "code",
      "metadata": {
        "id": "iDJvSaE6q-mm",
        "colab_type": "code",
        "colab": {}
      },
      "source": [
        "malstm = tf.keras.Model([inp1, inp2], [malstm_dist])"
      ],
      "execution_count": 0,
      "outputs": []
    },
    {
      "cell_type": "code",
      "metadata": {
        "id": "8pVASk30rOlB",
        "colab_type": "code",
        "colab": {}
      },
      "source": [
        "malstm.compile(optimizer=\"adam\",loss='mean_squared_error', metrics=['accuracy'])"
      ],
      "execution_count": 0,
      "outputs": []
    },
    {
      "cell_type": "code",
      "metadata": {
        "id": "6JUQjvub6JIq",
        "colab_type": "code",
        "outputId": "d7554eff-13f1-41fb-92d7-98c97307a6c7",
        "colab": {
          "base_uri": "https://localhost:8080/",
          "height": 272
        }
      },
      "source": [
        "tf.keras.utils.plot_model(malstm)"
      ],
      "execution_count": 30,
      "outputs": [
        {
          "output_type": "execute_result",
          "data": {
            "image/png": "[encoded data removed]",
            "text/plain": [
              "<IPython.core.display.Image object>"
            ]
          },
          "metadata": {
            "tags": []
          },
          "execution_count": 30
        }
      ]
    },
    {
      "cell_type": "code",
      "metadata": {
        "id": "k3K-N_mez8HX",
        "colab_type": "code",
        "outputId": "86a5dc6c-16b3-4324-f257-e292d72a1bf4",
        "colab": {
          "base_uri": "https://localhost:8080/",
          "height": 521
        }
      },
      "source": [
        "malstm.summary()\n",
        "lstm_model.summary()"
      ],
      "execution_count": 0,
      "outputs": [
        {
          "output_type": "stream",
          "text": [
            "Model: \"model_1\"\n",
            "__________________________________________________________________________________________________\n",
            "Layer (type)                    Output Shape         Param #     Connected to                     \n",
            "==================================================================================================\n",
            "input_3 (InputLayer)            [(None, 512, 1)]     0                                            \n",
            "__________________________________________________________________________________________________\n",
            "input_4 (InputLayer)            [(None, 512, 1)]     0                                            \n",
            "__________________________________________________________________________________________________\n",
            "sequential_1 (Sequential)       (None, 1)            528897      input_3[0][0]                    \n",
            "                                                                 input_4[0][0]                    \n",
            "__________________________________________________________________________________________________\n",
            "lambda (Lambda)                 (None, 1)            0           sequential_1[0][0]               \n",
            "                                                                 sequential_1[1][0]               \n",
            "==================================================================================================\n",
            "Total params: 528,897\n",
            "Trainable params: 528,897\n",
            "Non-trainable params: 0\n",
            "__________________________________________________________________________________________________\n",
            "Model: \"sequential_1\"\n",
            "_________________________________________________________________\n",
            "Layer (type)                 Output Shape              Param #   \n",
            "=================================================================\n",
            "bidirectional_1 (Bidirection (None, 512)               528384    \n",
            "_________________________________________________________________\n",
            "dense_1 (Dense)              (None, 1)                 513       \n",
            "=================================================================\n",
            "Total params: 528,897\n",
            "Trainable params: 528,897\n",
            "Non-trainable params: 0\n",
            "_________________________________________________________________\n"
          ],
          "name": "stdout"
        }
      ]
    },
    {
      "cell_type": "code",
      "metadata": {
        "id": "c89e8R_XFIPV",
        "colab_type": "code",
        "colab": {
          "base_uri": "https://localhost:8080/",
          "height": 101
        },
        "outputId": "6f4fe364-15af-4ad7-adb1-566c1dd1364a"
      },
      "source": [
        "model_hist=malstm.fit([train_embeddings1,train_embeddings2],train_similarity,epochs=2,validation_data=([val_embeddings1,val_embeddings2],val_similarity))"
      ],
      "execution_count": 31,
      "outputs": [
        {
          "output_type": "stream",
          "text": [
            "Train on 5749 samples, validate on 1379 samples\n",
            "Epoch 1/2\n",
            "5749/5749 [==============================] - 44s 8ms/sample - loss: 0.2125 - accuracy: 0.0583 - val_loss: 0.3005 - val_accuracy: 0.0703\n",
            "Epoch 2/2\n",
            "5749/5749 [==============================] - 36s 6ms/sample - loss: 0.2466 - accuracy: 0.0637 - val_loss: 0.2387 - val_accuracy: 0.0892\n"
          ],
          "name": "stdout"
        }
      ]
    },
    {
      "cell_type": "code",
      "metadata": {
        "id": "kGq6Fi1lGj-J",
        "colab_type": "code",
        "outputId": "9f9e1c01-7249-4203-d798-03c4d8a496cc",
        "colab": {
          "base_uri": "https://localhost:8080/",
          "height": 573
        }
      },
      "source": [
        "plot_model_history(model_hist)"
      ],
      "execution_count": 43,
      "outputs": [
        {
          "output_type": "display_data",
          "data": {
            "image/png": "[encoded data removed]",
            "text/plain": [
              "<Figure size 432x288 with 1 Axes>"
            ]
          },
          "metadata": {
            "tags": []
          }
        },
        {
          "output_type": "display_data",
          "data": {
            "image/png": "[encoded data removed]",
            "text/plain": [
              "<Figure size 432x288 with 1 Axes>"
            ]
          },
          "metadata": {
            "tags": []
          }
        }
      ]
    },
    {
      "cell_type": "code",
      "metadata": {
        "id": "3M_LFBuVSOvh",
        "colab_type": "code",
        "colab": {}
      },
      "source": [
        "!pip3 install -q pyyaml h5py "
      ],
      "execution_count": 0,
      "outputs": []
    },
    {
      "cell_type": "code",
      "metadata": {
        "id": "nSz8_CyvQ9lr",
        "colab_type": "code",
        "colab": {}
      },
      "source": [
        "malstm.save(filepath=\"STSmmodel.h5\",)"
      ],
      "execution_count": 0,
      "outputs": []
    }
  ]
}